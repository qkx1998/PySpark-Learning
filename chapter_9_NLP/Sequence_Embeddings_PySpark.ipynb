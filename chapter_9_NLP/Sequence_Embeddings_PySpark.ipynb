{
 "cells": [
  {
   "cell_type": "code",
   "execution_count": 8,
   "metadata": {},
   "outputs": [],
   "source": [
    "from pyspark.sql import SparkSession\n",
    "from pyspark.sql.types import *\n",
    "from pyspark.sql.functions import *"
   ]
  },
  {
   "cell_type": "code",
   "execution_count": 2,
   "metadata": {},
   "outputs": [],
   "source": [
    "from pyspark.ml.feature import StringIndexer\n",
    "from pyspark.sql.window import Window\n",
    "\n",
    "# scikit-learn\n",
    "from sklearn.decomposition import PCA\n",
    "from sklearn.preprocessing import StandardScaler, MinMaxScaler\n",
    "from sklearn.model_selection import train_test_split, GridSearchCV\n",
    "from sklearn.linear_model import LogisticRegression\n",
    "from sklearn.ensemble import RandomForestClassifier\n",
    "from sklearn.tree import DecisionTreeClassifier\n",
    "from sklearn.dummy import DummyClassifier\n",
    "from statsmodels.api import Logit\n",
    "from sklearn.decomposition import PCA\n",
    "from sklearn import metrics\n",
    "from sklearn.metrics import classification_report\n",
    "from sklearn.model_selection import train_test_split\n",
    "from sklearn.manifold import TSNE\n",
    "import matplotlib.pyplot as plt\n",
    "%matplotlib inline\n",
    "\n",
    "# others\n",
    "import pandas as pd\n",
    "import numpy as np\n",
    "import sys\n",
    "import itertools\n",
    "import re\n",
    "from random import sample\n",
    "import time"
   ]
  },
  {
   "cell_type": "code",
   "execution_count": null,
   "metadata": {},
   "outputs": [],
   "source": [
    "!pip install gensim"
   ]
  },
  {
   "cell_type": "code",
   "execution_count": 5,
   "metadata": {},
   "outputs": [],
   "source": [
    "from gensim.models.doc2vec import LabeledSentence\n",
    "from gensim.models import Doc2Vec\n",
    "from gensim.models import Word2Vec"
   ]
  },
  {
   "cell_type": "code",
   "execution_count": 10,
   "metadata": {},
   "outputs": [],
   "source": [
    "#create SparkSession\n",
    "spark=SparkSession.builder.appName('seq_embedding').getOrCreate()"
   ]
  },
  {
   "cell_type": "code",
   "execution_count": 12,
   "metadata": {},
   "outputs": [],
   "source": [
    "#reading a file\n",
    "df = spark.read.csv('embedding_dataset.csv',header=True,inferSchema=True)"
   ]
  },
  {
   "cell_type": "code",
   "execution_count": 13,
   "metadata": {},
   "outputs": [
    {
     "data": {
      "text/plain": [
       "1096955"
      ]
     },
     "execution_count": 13,
     "metadata": {},
     "output_type": "execute_result"
    }
   ],
   "source": [
    "df.count()"
   ]
  },
  {
   "cell_type": "code",
   "execution_count": 12,
   "metadata": {},
   "outputs": [
    {
     "name": "stdout",
     "output_type": "stream",
     "text": [
      "root\n",
      " |-- user_id: string (nullable = true)\n",
      " |-- page: string (nullable = true)\n",
      " |-- timestamp: timestamp (nullable = true)\n",
      " |-- visit_number: integer (nullable = true)\n",
      " |-- time_spent: double (nullable = true)\n",
      " |-- converted: integer (nullable = true)\n",
      "\n"
     ]
    }
   ],
   "source": [
    "df.printSchema()"
   ]
  },
  {
   "cell_type": "code",
   "execution_count": 14,
   "metadata": {},
   "outputs": [
    {
     "data": {
      "text/plain": [
       "104087"
      ]
     },
     "execution_count": 14,
     "metadata": {},
     "output_type": "execute_result"
    }
   ],
   "source": [
    "df.select('user_id').distinct().count()"
   ]
  },
  {
   "cell_type": "code",
   "execution_count": 15,
   "metadata": {},
   "outputs": [
    {
     "name": "stdout",
     "output_type": "stream",
     "text": [
      "+-------------+------+\n",
      "|page         |count |\n",
      "+-------------+------+\n",
      "|product info |767131|\n",
      "|homepage     |142456|\n",
      "|added to cart|67087 |\n",
      "|others       |39919 |\n",
      "|offers       |32003 |\n",
      "|buy          |24916 |\n",
      "|reviews      |23443 |\n",
      "+-------------+------+\n",
      "\n"
     ]
    }
   ],
   "source": [
    "df.groupBy('page').count().orderBy('count',ascending=False).show(10,False)"
   ]
  },
  {
   "cell_type": "code",
   "execution_count": 16,
   "metadata": {},
   "outputs": [
    {
     "name": "stdout",
     "output_type": "stream",
     "text": [
      "+----------------------------------------------------------------+-------------+------------+-----------+---------+\n",
      "|user_id                                                         |page         |visit_number|time_spent |converted|\n",
      "+----------------------------------------------------------------+-------------+------------+-----------+---------+\n",
      "|8057ed24427be18922f640b20b60997e7d070946b6c8f48117ae4d6dad0ebb23|homepage     |0           |0.16666667 |1        |\n",
      "|8057ed24427be18922f640b20b60997e7d070946b6c8f48117ae4d6dad0ebb23|product info |0           |0.4        |1        |\n",
      "|8057ed24427be18922f640b20b60997e7d070946b6c8f48117ae4d6dad0ebb23|product info |0           |0.31666666 |1        |\n",
      "|8057ed24427be18922f640b20b60997e7d070946b6c8f48117ae4d6dad0ebb23|product info |0           |0.6333333  |1        |\n",
      "|8057ed24427be18922f640b20b60997e7d070946b6c8f48117ae4d6dad0ebb23|product info |0           |0.15       |1        |\n",
      "|8057ed24427be18922f640b20b60997e7d070946b6c8f48117ae4d6dad0ebb23|homepage     |1           |0.8333333  |1        |\n",
      "|8057ed24427be18922f640b20b60997e7d070946b6c8f48117ae4d6dad0ebb23|product info |1           |0.16666667 |1        |\n",
      "|8057ed24427be18922f640b20b60997e7d070946b6c8f48117ae4d6dad0ebb23|product info |2           |0.16666667 |1        |\n",
      "|8057ed24427be18922f640b20b60997e7d070946b6c8f48117ae4d6dad0ebb23|buy          |2           |0.016666668|1        |\n",
      "|8057ed24427be18922f640b20b60997e7d070946b6c8f48117ae4d6dad0ebb23|added to cart|2           |0.41666666 |1        |\n",
      "+----------------------------------------------------------------+-------------+------------+-----------+---------+\n",
      "only showing top 10 rows\n",
      "\n"
     ]
    }
   ],
   "source": [
    "df.select(['user_id','page','visit_number','time_spent','converted']).show(10,False)"
   ]
  },
  {
   "cell_type": "code",
   "execution_count": 20,
   "metadata": {},
   "outputs": [],
   "source": [
    "# window for each user order by timestamp\n",
    "w = Window.partitionBy(\"user_id\").orderBy('timestamp')"
   ]
  },
  {
   "cell_type": "code",
   "execution_count": 21,
   "metadata": {},
   "outputs": [],
   "source": [
    "#creating a lagged column \n",
    "df = df.withColumn(\"previous_page\", lag(\"page\", 1, 'started').over(w))"
   ]
  },
  {
   "cell_type": "code",
   "execution_count": 23,
   "metadata": {},
   "outputs": [
    {
     "name": "stdout",
     "output_type": "stream",
     "text": [
      "+----------------------------------------------------------------+-------------------+-------------+-------------+\n",
      "|user_id                                                         |timestamp          |previous_page|page         |\n",
      "+----------------------------------------------------------------+-------------------+-------------+-------------+\n",
      "|004e96d0dc01f2541b7e5be735da6321b15f797ded220d5f6fb9d66910b5ce88|2017-04-10 20:23:09|started      |product info |\n",
      "|004e96d0dc01f2541b7e5be735da6321b15f797ded220d5f6fb9d66910b5ce88|2017-04-10 20:26:23|product info |product info |\n",
      "|004e96d0dc01f2541b7e5be735da6321b15f797ded220d5f6fb9d66910b5ce88|2017-04-12 14:12:40|product info |product info |\n",
      "|004e96d0dc01f2541b7e5be735da6321b15f797ded220d5f6fb9d66910b5ce88|2017-04-12 20:49:33|product info |product info |\n",
      "|004e96d0dc01f2541b7e5be735da6321b15f797ded220d5f6fb9d66910b5ce88|2017-04-13 12:18:12|product info |product info |\n",
      "|01158797281955155c5c6bbe7daaa368021adcc4eaf4b3794e1789b5ee412a34|2018-02-21 23:47:13|started      |homepage     |\n",
      "|01158797281955155c5c6bbe7daaa368021adcc4eaf4b3794e1789b5ee412a34|2018-02-21 23:49:17|homepage     |homepage     |\n",
      "|01158797281955155c5c6bbe7daaa368021adcc4eaf4b3794e1789b5ee412a34|2018-02-22 00:07:58|homepage     |homepage     |\n",
      "|01158797281955155c5c6bbe7daaa368021adcc4eaf4b3794e1789b5ee412a34|2018-02-22 11:08:24|homepage     |homepage     |\n",
      "|01158797281955155c5c6bbe7daaa368021adcc4eaf4b3794e1789b5ee412a34|2018-02-22 11:08:32|homepage     |added to cart|\n",
      "+----------------------------------------------------------------+-------------------+-------------+-------------+\n",
      "only showing top 10 rows\n",
      "\n"
     ]
    }
   ],
   "source": [
    "df.select('user_id','timestamp','previous_page','page').show(10,False)"
   ]
  },
  {
   "cell_type": "code",
   "execution_count": 24,
   "metadata": {},
   "outputs": [],
   "source": [
    "# adding an indicator if current page is same as next page\n",
    "def indicator(page, prev_page):\n",
    "    if page == prev_page:\n",
    "        return 0\n",
    "    else:\n",
    "        return 1\n",
    "    \n",
    "page_udf = udf(indicator,IntegerType())"
   ]
  },
  {
   "cell_type": "code",
   "execution_count": 25,
   "metadata": {},
   "outputs": [],
   "source": [
    "# adding a column for indicator and cumulative indicator\n",
    "df = df.withColumn(\"indicator\",page_udf(col('page'),col('previous_page'))) \\\n",
    "        .withColumn('indicator_cummulative',sum(col('indicator')).over(w))"
   ]
  },
  {
   "cell_type": "code",
   "execution_count": 27,
   "metadata": {},
   "outputs": [
    {
     "name": "stdout",
     "output_type": "stream",
     "text": [
      "+-------------+-------------+---------+---------------------+\n",
      "|previous_page|page         |indicator|indicator_cummulative|\n",
      "+-------------+-------------+---------+---------------------+\n",
      "|started      |product info |1        |1                    |\n",
      "|product info |product info |0        |1                    |\n",
      "|product info |product info |0        |1                    |\n",
      "|product info |product info |0        |1                    |\n",
      "|product info |product info |0        |1                    |\n",
      "|started      |homepage     |1        |1                    |\n",
      "|homepage     |homepage     |0        |1                    |\n",
      "|homepage     |homepage     |0        |1                    |\n",
      "|homepage     |homepage     |0        |1                    |\n",
      "|homepage     |added to cart|1        |2                    |\n",
      "|added to cart|homepage     |1        |3                    |\n",
      "|homepage     |added to cart|1        |4                    |\n",
      "|added to cart|homepage     |1        |5                    |\n",
      "|started      |homepage     |1        |1                    |\n",
      "|homepage     |product info |1        |2                    |\n",
      "|product info |product info |0        |2                    |\n",
      "|product info |product info |0        |2                    |\n",
      "|product info |product info |0        |2                    |\n",
      "|product info |product info |0        |2                    |\n",
      "|started      |product info |1        |1                    |\n",
      "+-------------+-------------+---------+---------------------+\n",
      "only showing top 20 rows\n",
      "\n"
     ]
    }
   ],
   "source": [
    "df.select('previous_page','page','indicator','indicator_cummulative').show(20,False)"
   ]
  },
  {
   "cell_type": "code",
   "execution_count": 28,
   "metadata": {},
   "outputs": [],
   "source": [
    "# create window with user and indicator cummulative\n",
    "w2 = Window.partitionBy([\"user_id\",'indicator_cummulative']).orderBy('timestamp')"
   ]
  },
  {
   "cell_type": "code",
   "execution_count": 29,
   "metadata": {},
   "outputs": [],
   "source": [
    "# adding a column with time spent cumulative ( time spent by a user on a page  visited in continuation )\n",
    "df = df.withColumn('time_spent_cummulative',sum(col('time_spent')).over(w2))"
   ]
  },
  {
   "cell_type": "code",
   "execution_count": 30,
   "metadata": {},
   "outputs": [
    {
     "name": "stdout",
     "output_type": "stream",
     "text": [
      "+-------------------+-------------+-------------+---------+---------------------+-----------+----------------------+\n",
      "|timestamp          |previous_page|page         |indicator|indicator_cummulative|time_spent |time_spent_cummulative|\n",
      "+-------------------+-------------+-------------+---------+---------------------+-----------+----------------------+\n",
      "|2017-04-10 20:23:09|started      |product info |1        |1                    |3.2333333  |3.2333333             |\n",
      "|2017-04-10 20:26:23|product info |product info |0        |1                    |0.08       |3.3133333             |\n",
      "|2017-04-12 14:12:40|product info |product info |0        |1                    |0.08       |3.3933333             |\n",
      "|2017-04-12 20:49:33|product info |product info |0        |1                    |0.08       |3.4733333             |\n",
      "|2017-04-13 12:18:12|product info |product info |0        |1                    |0.08       |3.5533333000000002    |\n",
      "|2018-02-21 23:47:13|started      |homepage     |1        |1                    |0.16666667 |0.16666667            |\n",
      "|2018-02-21 23:49:17|homepage     |homepage     |0        |1                    |0.06666667 |0.23333334            |\n",
      "|2018-02-22 00:07:58|homepage     |homepage     |0        |1                    |0.06666667 |0.30000001            |\n",
      "|2018-02-22 11:08:24|homepage     |homepage     |0        |1                    |0.13333334 |0.43333334999999995   |\n",
      "|2018-02-22 11:08:32|homepage     |added to cart|1        |2                    |0.11666667 |0.11666667            |\n",
      "|2018-02-22 11:10:08|added to cart|homepage     |1        |3                    |0.05       |0.05                  |\n",
      "|2018-02-22 11:10:11|homepage     |added to cart|1        |4                    |0.083333336|0.083333336           |\n",
      "|2018-02-22 12:31:58|added to cart|homepage     |1        |5                    |1.65       |1.65                  |\n",
      "|2017-12-09 21:35:03|started      |homepage     |1        |1                    |0.25       |0.25                  |\n",
      "|2017-12-09 21:35:18|homepage     |product info |1        |2                    |0.1        |0.1                   |\n",
      "|2017-12-09 21:36:14|product info |product info |0        |2                    |0.15       |0.25                  |\n",
      "|2017-12-09 21:36:23|product info |product info |0        |2                    |0.33333334 |0.58333334            |\n",
      "|2017-12-09 21:36:52|product info |product info |0        |2                    |0.23333333 |0.81666667            |\n",
      "|2017-12-09 21:42:31|product info |product info |0        |2                    |0.21666667 |1.03333334            |\n",
      "|2017-04-24 06:45:25|started      |product info |1        |1                    |0.15       |0.15                  |\n",
      "+-------------------+-------------+-------------+---------+---------------------+-----------+----------------------+\n",
      "only showing top 20 rows\n",
      "\n"
     ]
    }
   ],
   "source": [
    "df.select('timestamp','previous_page','page','indicator','indicator_cummulative','time_spent','time_spent_cummulative').show(20,False)"
   ]
  },
  {
   "cell_type": "code",
   "execution_count": 31,
   "metadata": {},
   "outputs": [],
   "source": [
    "# creating a window to get final page and final timespent \n",
    "w3 = Window.partitionBy([\"user_id\",'indicator_cummulative']).orderBy(col('timestamp').desc())"
   ]
  },
  {
   "cell_type": "code",
   "execution_count": 32,
   "metadata": {},
   "outputs": [],
   "source": [
    "# Add column for final page category and final time spent\n",
    "df = df.withColumn('final_page',first('page').over(w3))\\\n",
    "     .withColumn('final_time_spent',first('time_spent_cummulative').over(w3))\n"
   ]
  },
  {
   "cell_type": "code",
   "execution_count": 34,
   "metadata": {},
   "outputs": [
    {
     "name": "stdout",
     "output_type": "stream",
     "text": [
      "+----------------------+---------------------+-------------+-------------+-------------------+\n",
      "|time_spent_cummulative|indicator_cummulative|page         |final_page   |final_time_spent   |\n",
      "+----------------------+---------------------+-------------+-------------+-------------------+\n",
      "|3.5533333000000002    |1                    |product info |product info |3.5533333000000002 |\n",
      "|3.4733333             |1                    |product info |product info |3.5533333000000002 |\n",
      "|3.3933333             |1                    |product info |product info |3.5533333000000002 |\n",
      "|3.3133333             |1                    |product info |product info |3.5533333000000002 |\n",
      "|3.2333333             |1                    |product info |product info |3.5533333000000002 |\n",
      "|0.43333334999999995   |1                    |homepage     |homepage     |0.43333334999999995|\n",
      "|0.30000001            |1                    |homepage     |homepage     |0.43333334999999995|\n",
      "|0.23333334            |1                    |homepage     |homepage     |0.43333334999999995|\n",
      "|0.16666667            |1                    |homepage     |homepage     |0.43333334999999995|\n",
      "|0.11666667            |2                    |added to cart|added to cart|0.11666667         |\n",
      "+----------------------+---------------------+-------------+-------------+-------------------+\n",
      "only showing top 10 rows\n",
      "\n"
     ]
    }
   ],
   "source": [
    "df.select(['time_spent_cummulative','indicator_cummulative','page','final_page','final_time_spent']).show(10,False)"
   ]
  },
  {
   "cell_type": "code",
   "execution_count": 35,
   "metadata": {},
   "outputs": [],
   "source": [
    "# user and pagelevel aggregation  \n",
    "aggregations=[]\n",
    "aggregations.append(max(col('final_page')).alias('page_emb'))\n",
    "aggregations.append(max(col('final_time_spent')).alias('time_spent_emb'))\n",
    "aggregations.append(max(col('converted')).alias('converted_emb'))"
   ]
  },
  {
   "cell_type": "code",
   "execution_count": 36,
   "metadata": {},
   "outputs": [],
   "source": [
    "#selecting relevant columns\n",
    "# extracting the dataframe with the data frame that will be used for embedding\n",
    "df_embedding = df.select(['user_id','indicator_cummulative','final_page','final_time_spent','converted']).groupBy(['user_id','indicator_cummulative']).agg(*aggregations)"
   ]
  },
  {
   "cell_type": "code",
   "execution_count": 37,
   "metadata": {},
   "outputs": [
    {
     "data": {
      "text/plain": [
       "414770"
      ]
     },
     "execution_count": 37,
     "metadata": {},
     "output_type": "execute_result"
    }
   ],
   "source": [
    "df_embedding.count()"
   ]
  },
  {
   "cell_type": "code",
   "execution_count": 37,
   "metadata": {},
   "outputs": [
    {
     "name": "stdout",
     "output_type": "stream",
     "text": [
      "+----------------------------------------------------------------+---------------------+-------------+-------------------+-------------+\n",
      "|user_id                                                         |indicator_cummulative|page_emb     |time_spent_emb     |converted_emb|\n",
      "+----------------------------------------------------------------+---------------------+-------------+-------------------+-------------+\n",
      "|004e96d0dc01f2541b7e5be735da6321b15f797ded220d5f6fb9d66910b5ce88|1                    |product info |3.5533333000000002 |0            |\n",
      "|01158797281955155c5c6bbe7daaa368021adcc4eaf4b3794e1789b5ee412a34|1                    |homepage     |0.43333334999999995|0            |\n",
      "|01158797281955155c5c6bbe7daaa368021adcc4eaf4b3794e1789b5ee412a34|2                    |added to cart|0.11666667         |0            |\n",
      "|01158797281955155c5c6bbe7daaa368021adcc4eaf4b3794e1789b5ee412a34|3                    |homepage     |0.05               |0            |\n",
      "|01158797281955155c5c6bbe7daaa368021adcc4eaf4b3794e1789b5ee412a34|4                    |added to cart|0.083333336        |0            |\n",
      "|01158797281955155c5c6bbe7daaa368021adcc4eaf4b3794e1789b5ee412a34|5                    |homepage     |1.65               |0            |\n",
      "|020d29467c7810a85cdf9c85f8bad4c551bc79f5aee959f41b92d75de968d81b|1                    |homepage     |0.25               |0            |\n",
      "|020d29467c7810a85cdf9c85f8bad4c551bc79f5aee959f41b92d75de968d81b|2                    |product info |1.03333334         |0            |\n",
      "|032d6e8c20f41c18ec32b4178099e5ec6648715cb43953734e9b2428d92e84ed|1                    |product info |2.329999975        |0            |\n",
      "|0377ebcf2ac8f8aef0f6dc28d61479f85a30d88203b9a46fd8dde56bee6384c5|1                    |product info |1.0699999999999998 |0            |\n",
      "|03f484c3d0dc5afaf2589fff76f127ebd9f0c878c0ce027fe22938459a9b1454|1                    |homepage     |0.6500000100000001 |0            |\n",
      "|03f484c3d0dc5afaf2589fff76f127ebd9f0c878c0ce027fe22938459a9b1454|2                    |product info |0.033333335        |0            |\n",
      "|03f484c3d0dc5afaf2589fff76f127ebd9f0c878c0ce027fe22938459a9b1454|3                    |homepage     |0.5                |0            |\n",
      "|03f484c3d0dc5afaf2589fff76f127ebd9f0c878c0ce027fe22938459a9b1454|4                    |product info |0.28               |0            |\n",
      "|040828e6773148d00d1cbee03c90363e9c66c7d95d21313b6db6a20e9e45d210|1                    |product info |1.430000006        |0            |\n",
      "|05bd9a73b6f61509e6e7e0fa2d3012efccc6103779a0816d46911a2f2ef55a3e|1                    |product info |14.79999967        |0            |\n",
      "|068ea915e886eb11c747ea6cb137b76c73379dc7b71ac18fa1459a4f49528bed|1                    |homepage     |0.5                |0            |\n",
      "|068ea915e886eb11c747ea6cb137b76c73379dc7b71ac18fa1459a4f49528bed|2                    |others       |0.5                |0            |\n",
      "|068ea915e886eb11c747ea6cb137b76c73379dc7b71ac18fa1459a4f49528bed|3                    |product info |0.979999986        |0            |\n",
      "|06a572f2d5e9d5c56cda08c2ab688854c9f4c8823f2b7f3fe27d0a68596a346e|1                    |product info |0.56               |0            |\n",
      "|06d70abf021b34477cb7ee3151d3a9de1086dd270a1be5cc3c3407bf03a6393a|1                    |homepage     |0.5                |0            |\n",
      "|06d70abf021b34477cb7ee3151d3a9de1086dd270a1be5cc3c3407bf03a6393a|2                    |product info |5.4666667          |0            |\n",
      "|06d70abf021b34477cb7ee3151d3a9de1086dd270a1be5cc3c3407bf03a6393a|3                    |homepage     |1.2333333          |0            |\n",
      "|06d70abf021b34477cb7ee3151d3a9de1086dd270a1be5cc3c3407bf03a6393a|4                    |product info |4.31666666         |0            |\n",
      "|06d70abf021b34477cb7ee3151d3a9de1086dd270a1be5cc3c3407bf03a6393a|5                    |homepage     |0.85               |0            |\n",
      "|06d70abf021b34477cb7ee3151d3a9de1086dd270a1be5cc3c3407bf03a6393a|6                    |reviews      |2.3                |0            |\n",
      "|06d70abf021b34477cb7ee3151d3a9de1086dd270a1be5cc3c3407bf03a6393a|7                    |product info |0.2                |0            |\n",
      "|06d70abf021b34477cb7ee3151d3a9de1086dd270a1be5cc3c3407bf03a6393a|8                    |reviews      |0.36333333         |0            |\n",
      "|06d70abf021b34477cb7ee3151d3a9de1086dd270a1be5cc3c3407bf03a6393a|9                    |homepage     |1.55               |0            |\n",
      "|06d70abf021b34477cb7ee3151d3a9de1086dd270a1be5cc3c3407bf03a6393a|10                   |product info |0.08               |0            |\n",
      "+----------------------------------------------------------------+---------------------+-------------+-------------------+-------------+\n",
      "only showing top 30 rows\n",
      "\n"
     ]
    }
   ],
   "source": [
    "df_embedding.show(30, False)"
   ]
  },
  {
   "cell_type": "code",
   "execution_count": 38,
   "metadata": {},
   "outputs": [],
   "source": [
    "# create a partition by user id ordered by indicator cumulative to get the journey\n",
    "w4 = Window.partitionBy([\"user_id\"]).orderBy('indicator_cummulative')\n",
    "w5 = Window.partitionBy([\"user_id\"]).orderBy(col('indicator_cummulative').desc())"
   ]
  },
  {
   "cell_type": "code",
   "execution_count": 39,
   "metadata": {},
   "outputs": [],
   "source": [
    "df_embedding = df_embedding.withColumn('journey_page', collect_list(col('page_emb')).over(w4))\\\n",
    "                          .withColumn('journey_time_temp', collect_list(col('time_spent_emb')).over(w4)) \\\n",
    "                         .withColumn('journey_page_final',first('journey_page').over(w5))\\\n",
    "                        .withColumn('journey_time_final',first('journey_time_temp').over(w5)) \\\n",
    "                        .select(['user_id','journey_page_final','journey_time_final','converted_emb'])"
   ]
  },
  {
   "cell_type": "code",
   "execution_count": 40,
   "metadata": {},
   "outputs": [
    {
     "name": "stdout",
     "output_type": "stream",
     "text": [
      "+--------------------+--------------------+--------------------+\n",
      "|             user_id|  journey_page_final|  journey_time_final|\n",
      "+--------------------+--------------------+--------------------+\n",
      "|004e96d0dc01f2541...|      [product info]|[3.5533333000000002]|\n",
      "|01158797281955155...|[homepage, added ...|[0.43333334999999...|\n",
      "|01158797281955155...|[homepage, added ...|[0.43333334999999...|\n",
      "|01158797281955155...|[homepage, added ...|[0.43333334999999...|\n",
      "|01158797281955155...|[homepage, added ...|[0.43333334999999...|\n",
      "|01158797281955155...|[homepage, added ...|[0.43333334999999...|\n",
      "|020d29467c7810a85...|[homepage, produc...|  [0.25, 1.03333334]|\n",
      "|020d29467c7810a85...|[homepage, produc...|  [0.25, 1.03333334]|\n",
      "|032d6e8c20f41c18e...|      [product info]|       [2.329999975]|\n",
      "|0377ebcf2ac8f8aef...|      [product info]|[1.0699999999999998]|\n",
      "+--------------------+--------------------+--------------------+\n",
      "only showing top 10 rows\n",
      "\n"
     ]
    }
   ],
   "source": [
    "df_embedding.select('user_id','journey_page_final','journey_time_final').show(10)"
   ]
  },
  {
   "cell_type": "code",
   "execution_count": 43,
   "metadata": {},
   "outputs": [
    {
     "data": {
      "text/plain": [
       "414770"
      ]
     },
     "execution_count": 43,
     "metadata": {},
     "output_type": "execute_result"
    }
   ],
   "source": [
    "df_embedding.count()"
   ]
  },
  {
   "cell_type": "code",
   "execution_count": 44,
   "metadata": {},
   "outputs": [
    {
     "data": {
      "text/plain": [
       "104087"
      ]
     },
     "execution_count": 44,
     "metadata": {},
     "output_type": "execute_result"
    }
   ],
   "source": [
    "df_embedding.select('user_id').distinct().count()"
   ]
  },
  {
   "cell_type": "code",
   "execution_count": 41,
   "metadata": {},
   "outputs": [],
   "source": [
    "df_embedding = df_embedding.dropDuplicates()"
   ]
  },
  {
   "cell_type": "code",
   "execution_count": 42,
   "metadata": {},
   "outputs": [
    {
     "data": {
      "text/plain": [
       "104087"
      ]
     },
     "execution_count": 42,
     "metadata": {},
     "output_type": "execute_result"
    }
   ],
   "source": [
    "df_embedding.count()"
   ]
  },
  {
   "cell_type": "code",
   "execution_count": 43,
   "metadata": {},
   "outputs": [
    {
     "data": {
      "text/plain": [
       "104087"
      ]
     },
     "execution_count": 43,
     "metadata": {},
     "output_type": "execute_result"
    }
   ],
   "source": [
    "df_embedding.select('user_id').distinct().count()"
   ]
  },
  {
   "cell_type": "code",
   "execution_count": 44,
   "metadata": {},
   "outputs": [
    {
     "name": "stdout",
     "output_type": "stream",
     "text": [
      "+--------------------+--------------------+--------------------+\n",
      "|             user_id|  journey_page_final|  journey_time_final|\n",
      "+--------------------+--------------------+--------------------+\n",
      "|004e96d0dc01f2541...|      [product info]|[3.5533333000000002]|\n",
      "|01158797281955155...|[homepage, added ...|[0.43333334999999...|\n",
      "|020d29467c7810a85...|[homepage, produc...|  [0.25, 1.03333334]|\n",
      "|032d6e8c20f41c18e...|      [product info]|       [2.329999975]|\n",
      "|0377ebcf2ac8f8aef...|      [product info]|[1.0699999999999998]|\n",
      "|03f484c3d0dc5afaf...|[homepage, produc...|[0.65000001000000...|\n",
      "|040828e6773148d00...|      [product info]|       [1.430000006]|\n",
      "|05bd9a73b6f61509e...|      [product info]|       [14.79999967]|\n",
      "|068ea915e886eb11c...|[homepage, others...|[0.5, 0.5, 0.9799...|\n",
      "|06a572f2d5e9d5c56...|      [product info]|              [0.56]|\n",
      "+--------------------+--------------------+--------------------+\n",
      "only showing top 10 rows\n",
      "\n"
     ]
    }
   ],
   "source": [
    "df_embedding.select('user_id','journey_page_final','journey_time_final').show(10)"
   ]
  },
  {
   "cell_type": "code",
   "execution_count": 45,
   "metadata": {},
   "outputs": [],
   "source": [
    "# create pandas dataframe for embedding\n",
    "pd_df_embedding = df_embedding.toPandas()"
   ]
  },
  {
   "cell_type": "code",
   "execution_count": 46,
   "metadata": {},
   "outputs": [
    {
     "data": {
      "text/html": [
       "<div>\n",
       "<table border=\"1\" class=\"dataframe\">\n",
       "  <thead>\n",
       "    <tr style=\"text-align: right;\">\n",
       "      <th></th>\n",
       "      <th>user_id</th>\n",
       "      <th>journey_page_final</th>\n",
       "      <th>journey_time_final</th>\n",
       "      <th>converted_emb</th>\n",
       "    </tr>\n",
       "  </thead>\n",
       "  <tbody>\n",
       "    <tr>\n",
       "      <th>0</th>\n",
       "      <td>004e96d0dc01f2541b7e5be735da6321b15f797ded220d...</td>\n",
       "      <td>[product info]</td>\n",
       "      <td>[3.5533333000000002]</td>\n",
       "      <td>0</td>\n",
       "    </tr>\n",
       "    <tr>\n",
       "      <th>1</th>\n",
       "      <td>01158797281955155c5c6bbe7daaa368021adcc4eaf4b3...</td>\n",
       "      <td>[homepage, added to cart, homepage, added to c...</td>\n",
       "      <td>[0.43333334999999995, 0.11666667, 0.05, 0.0833...</td>\n",
       "      <td>0</td>\n",
       "    </tr>\n",
       "    <tr>\n",
       "      <th>2</th>\n",
       "      <td>020d29467c7810a85cdf9c85f8bad4c551bc79f5aee959...</td>\n",
       "      <td>[homepage, product info]</td>\n",
       "      <td>[0.25, 1.03333334]</td>\n",
       "      <td>0</td>\n",
       "    </tr>\n",
       "    <tr>\n",
       "      <th>3</th>\n",
       "      <td>032d6e8c20f41c18ec32b4178099e5ec6648715cb43953...</td>\n",
       "      <td>[product info]</td>\n",
       "      <td>[2.329999975]</td>\n",
       "      <td>0</td>\n",
       "    </tr>\n",
       "    <tr>\n",
       "      <th>4</th>\n",
       "      <td>0377ebcf2ac8f8aef0f6dc28d61479f85a30d88203b9a4...</td>\n",
       "      <td>[product info]</td>\n",
       "      <td>[1.0699999999999998]</td>\n",
       "      <td>0</td>\n",
       "    </tr>\n",
       "  </tbody>\n",
       "</table>\n",
       "</div>"
      ],
      "text/plain": [
       "                                             user_id  \\\n",
       "0  004e96d0dc01f2541b7e5be735da6321b15f797ded220d...   \n",
       "1  01158797281955155c5c6bbe7daaa368021adcc4eaf4b3...   \n",
       "2  020d29467c7810a85cdf9c85f8bad4c551bc79f5aee959...   \n",
       "3  032d6e8c20f41c18ec32b4178099e5ec6648715cb43953...   \n",
       "4  0377ebcf2ac8f8aef0f6dc28d61479f85a30d88203b9a4...   \n",
       "\n",
       "                                  journey_page_final  \\\n",
       "0                                     [product info]   \n",
       "1  [homepage, added to cart, homepage, added to c...   \n",
       "2                           [homepage, product info]   \n",
       "3                                     [product info]   \n",
       "4                                     [product info]   \n",
       "\n",
       "                                  journey_time_final  converted_emb  \n",
       "0                               [3.5533333000000002]              0  \n",
       "1  [0.43333334999999995, 0.11666667, 0.05, 0.0833...              0  \n",
       "2                                 [0.25, 1.03333334]              0  \n",
       "3                                      [2.329999975]              0  \n",
       "4                               [1.0699999999999998]              0  "
      ]
     },
     "execution_count": 46,
     "metadata": {},
     "output_type": "execute_result"
    }
   ],
   "source": [
    "pd_df_embedding.head(5)"
   ]
  },
  {
   "cell_type": "code",
   "execution_count": 55,
   "metadata": {},
   "outputs": [],
   "source": [
    "# making sure we don't have journeys with length less than 4\n",
    "pd_df_embedding = pd_df_embedding[pd_df_embedding['journey_length'] > 4 ]"
   ]
  },
  {
   "cell_type": "code",
   "execution_count": 47,
   "metadata": {},
   "outputs": [],
   "source": [
    "# reset index\n",
    "pd_df_embedding = pd_df_embedding.reset_index(drop=True)"
   ]
  },
  {
   "cell_type": "code",
   "execution_count": 48,
   "metadata": {},
   "outputs": [],
   "source": [
    "# train model\n",
    "EMBEDDING_SIZE = 100\n",
    "model = Word2Vec(pd_df_embedding['journey_page_final'], size=EMBEDDING_SIZE)"
   ]
  },
  {
   "cell_type": "code",
   "execution_count": 49,
   "metadata": {},
   "outputs": [
    {
     "data": {
      "text/plain": [
       "0.7907839000254171"
      ]
     },
     "execution_count": 49,
     "metadata": {},
     "output_type": "execute_result"
    }
   ],
   "source": [
    "model.total_train_time"
   ]
  },
  {
   "cell_type": "code",
   "execution_count": 51,
   "metadata": {},
   "outputs": [
    {
     "name": "stdout",
     "output_type": "stream",
     "text": [
      "Word2Vec(vocab=7, size=100, alpha=0.025)\n"
     ]
    }
   ],
   "source": [
    "# summarize the loaded model\n",
    "print(model)"
   ]
  },
  {
   "cell_type": "code",
   "execution_count": 52,
   "metadata": {},
   "outputs": [],
   "source": [
    "# summarize vocabulary\n",
    "page_categories = list(model.wv.vocab)"
   ]
  },
  {
   "cell_type": "code",
   "execution_count": 53,
   "metadata": {},
   "outputs": [
    {
     "name": "stdout",
     "output_type": "stream",
     "text": [
      "['product info', 'homepage', 'added to cart', 'others', 'reviews', 'offers', 'buy']\n"
     ]
    }
   ],
   "source": [
    "# page categories \n",
    "print(page_categories)"
   ]
  },
  {
   "cell_type": "code",
   "execution_count": 54,
   "metadata": {},
   "outputs": [
    {
     "name": "stdout",
     "output_type": "stream",
     "text": [
      "[ 0.47489035  0.53834176 -0.47785276 -0.26488945 -0.2656599  -0.04322785\n",
      "  0.24362227  0.26430744 -0.48902759 -0.31393662  0.41263634  0.78189737\n",
      "  0.58100605 -0.4459599  -0.70117044 -0.63221812 -0.6908192  -0.6791628\n",
      " -0.02506013  0.21131983 -0.02721698 -0.20559131 -0.78862274 -0.55389541\n",
      " -0.1507041   0.7149269  -0.24301411  0.29431018 -0.52848756 -0.500494\n",
      "  0.16006927 -0.10355954 -0.36789769 -0.01349463 -0.40723842  0.15346751\n",
      " -0.79262614 -0.67456675 -0.18617149  0.69221032  0.53981733  0.75779319\n",
      "  0.0573662   0.85435468  0.78063792  0.57342744 -0.16319969  0.46502107\n",
      " -0.09518502  0.60525858  0.31979162 -0.26889852 -0.12189896  0.65022558\n",
      "  0.07857032  0.06138223  0.15626955  0.23680885  0.33999926 -0.54703128\n",
      " -0.21992962  0.83436728 -0.34557605 -0.69831383  0.4595826  -0.49346444\n",
      " -0.14114673  0.37797749  0.70894194  0.55426389 -0.40428343 -0.67311144\n",
      " -0.46010655 -0.44518954  0.7340765  -0.04775194 -0.44416061  0.45019379\n",
      " -0.54332632 -0.48565596  0.093257   -0.5141685   0.24856164  0.39611688\n",
      " -0.15698397 -0.45113751 -0.15056689  0.75211751 -0.06628865  0.07008368\n",
      "  0.46780539 -0.13114813 -0.61940897 -0.29163912 -0.3338908   0.40938324\n",
      "  0.08697812  0.74824899  0.53244144 -0.20717621]\n"
     ]
    },
    {
     "name": "stderr",
     "output_type": "stream",
     "text": [
      "/opt/conda/lib/python3.6/site-packages/ipykernel_launcher.py:2: DeprecationWarning: Call to deprecated `__getitem__` (Method will be removed in 4.0.0, use self.wv.__getitem__() instead).\n",
      "  \n"
     ]
    }
   ],
   "source": [
    "# sample embedding\n",
    "print(model['reviews'])"
   ]
  },
  {
   "cell_type": "code",
   "execution_count": 55,
   "metadata": {},
   "outputs": [
    {
     "name": "stderr",
     "output_type": "stream",
     "text": [
      "/opt/conda/lib/python3.6/site-packages/ipykernel_launcher.py:2: DeprecationWarning: Call to deprecated `__getitem__` (Method will be removed in 4.0.0, use self.wv.__getitem__() instead).\n",
      "  \n"
     ]
    },
    {
     "data": {
      "text/plain": [
       "(100,)"
      ]
     },
     "execution_count": 55,
     "metadata": {},
     "output_type": "execute_result"
    }
   ],
   "source": [
    "# embedding shape \n",
    "model['offers'].shape"
   ]
  },
  {
   "cell_type": "code",
   "execution_count": 56,
   "metadata": {},
   "outputs": [
    {
     "name": "stderr",
     "output_type": "stream",
     "text": [
      "/opt/conda/lib/python3.6/site-packages/ipykernel_launcher.py:2: DeprecationWarning: Call to deprecated `__getitem__` (Method will be removed in 4.0.0, use self.wv.__getitem__() instead).\n",
      "  \n"
     ]
    }
   ],
   "source": [
    "# capturing embedding matrix\n",
    "X = model[model.wv.vocab]"
   ]
  },
  {
   "cell_type": "code",
   "execution_count": 57,
   "metadata": {},
   "outputs": [
    {
     "data": {
      "text/plain": [
       "(7, 100)"
      ]
     },
     "execution_count": 57,
     "metadata": {},
     "output_type": "execute_result"
    }
   ],
   "source": [
    "# embedding matrix shapee\n",
    "X.shape"
   ]
  },
  {
   "cell_type": "code",
   "execution_count": 58,
   "metadata": {},
   "outputs": [],
   "source": [
    "# run PCA with 2 compopnent to visualize page category embedding\n",
    "pca = PCA(n_components=2)\n",
    "result = pca.fit_transform(X)"
   ]
  },
  {
   "cell_type": "code",
   "execution_count": 59,
   "metadata": {},
   "outputs": [
    {
     "data": {
      "image/png": "[encoded data removed]",
      "text/plain": [
       "<matplotlib.figure.Figure at 0x7f6122426b38>"
      ]
     },
     "metadata": {},
     "output_type": "display_data"
    }
   ],
   "source": [
    "# plotting with page-categories\n",
    "# create a scatter plot of the projection\n",
    "plt.figure(figsize=(10,10))\n",
    "plt.scatter(result[:, 0], result[:, 1])\n",
    "\n",
    "for i,page_category in enumerate(page_categories):\n",
    "    plt.annotate(page_category,horizontalalignment='right', verticalalignment='top',xy=(result[i, 0], result[i, 1]))\n",
    "\n",
    "plt.show()"
   ]
  },
  {
   "cell_type": "code",
   "execution_count": null,
   "metadata": {},
   "outputs": [],
   "source": []
  }
 ],
 "metadata": {
  "kernelspec": {
   "display_name": "Python 3",
   "language": "python",
   "name": "python3"
  },
  "language_info": {
   "codemirror_mode": {
    "name": "ipython",
    "version": 3
   },
   "file_extension": ".py",
   "mimetype": "text/x-python",
   "name": "python",
   "nbconvert_exporter": "python",
   "pygments_lexer": "ipython3",
   "version": "3.6.3"
  }
 },
 "nbformat": 4,
 "nbformat_minor": 2
}
